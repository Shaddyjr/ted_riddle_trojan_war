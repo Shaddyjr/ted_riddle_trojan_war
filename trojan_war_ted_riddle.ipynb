{
 "metadata": {
  "language_info": {
   "codemirror_mode": {
    "name": "ipython",
    "version": 3
   },
   "file_extension": ".py",
   "mimetype": "text/x-python",
   "name": "python",
   "nbconvert_exporter": "python",
   "pygments_lexer": "ipython3",
   "version": "3.9.1"
  },
  "orig_nbformat": 2,
  "kernelspec": {
   "name": "python391jvsc74a57bd063fd5069d213b44bf678585dea6b12cceca9941eaf7f819626cde1f2670de90d",
   "display_name": "Python 3.9.1 64-bit"
  }
 },
 "nbformat": 4,
 "nbformat_minor": 2,
 "cells": [
  {
   "source": [
    "# Trojan War: Ted Riddle\n",
    "\n",
    "- Source: https://www.youtube.com/watch?v=MJ5CRZFSlAU\n",
    "- Glitched Failure's Solution Video: https://youtu.be/DAcUtDRUq7s"
   ],
   "cell_type": "markdown",
   "metadata": {}
  },
  {
   "source": [
    "## Algorithm\n",
    "1. Create queue, populate with `init_field`\n",
    "2. While queue is not empty, pop a field off queue\n",
    "    1. Check if field is valid, if it is, stop loop (FOUND SOLUTION!)\n",
    "    2. Create all possible valid moves as new fields and add to queue\n",
    "\n",
    "Optimizations: Store cache to prevent repeating entries"
   ],
   "cell_type": "markdown",
   "metadata": {}
  },
  {
   "source": [
    "### The code I wish I had...\n",
    "\n",
    "```python\n",
    "# create cache\n",
    "cache = set()\n",
    "# create queue with init_field\n",
    "init_field = create_init_field()\n",
    "queue = [init_field]\n",
    "# while queue is not empty...\n",
    "while queue:\n",
    "    # pop field from queue\n",
    "    field = queue.pop()\n",
    "    # check if field is valid, if it is, stop loop (FOUND SOLUTION!)\n",
    "    if field_is_valid(field):\n",
    "        print('Found solution!')\n",
    "        print_field(field)\n",
    "        break\n",
    "    # Create all possible valid moves as new fields and add to queue (check/add to cache)\n",
    "    new_fields = make_all_valid_moves(field)\n",
    "    for new_field in new_fields:\n",
    "        field_str = field_to_str(new_field)\n",
    "        if field_str not in cache:\n",
    "            cache.add(field_str)\n",
    "            queue.append(new_field)\n",
    "```"
   ],
   "cell_type": "markdown",
   "metadata": {}
  },
  {
   "source": [
    "## CONFIG"
   ],
   "cell_type": "markdown",
   "metadata": {}
  },
  {
   "cell_type": "code",
   "execution_count": 44,
   "metadata": {},
   "outputs": [],
   "source": [
    "TROJAN = 'T'\n",
    "GREEK = 'G'\n",
    "SWAPPED_TROJAN = 't'\n",
    "SWAPPED_GREEK = 'g'\n",
    "TROJAN_TENTS = (TROJAN, SWAPPED_TROJAN)\n",
    "GREEK_TENTS = (GREEK, SWAPPED_GREEK)\n",
    "SWAPPED_TENTS = (SWAPPED_TROJAN, SWAPPED_GREEK)\n",
    "WIDTH = 11\n",
    "HEIGHT = 10\n",
    "MAX_SWAPS = 6\n",
    "TOTAL_TROJANS = HEIGHT + WIDTH - 2"
   ]
  },
  {
   "cell_type": "code",
   "execution_count": 45,
   "metadata": {},
   "outputs": [],
   "source": [
    "def create_init_field():\n",
    "    field = [[TROJAN if i == 5 or j == 4 else GREEK for j in range(HEIGHT)] for i in range(WIDTH)]\n",
    "    field[5][4] = GREEK\n",
    "\n",
    "    return field"
   ]
  },
  {
   "cell_type": "code",
   "execution_count": 46,
   "metadata": {},
   "outputs": [
    {
     "output_type": "execute_result",
     "data": {
      "text/plain": [
       "[['G', 'G', 'G', 'G', 'T', 'G', 'G', 'G', 'G', 'G'],\n",
       " ['G', 'G', 'G', 'G', 'T', 'G', 'G', 'G', 'G', 'G'],\n",
       " ['G', 'G', 'G', 'G', 'T', 'G', 'G', 'G', 'G', 'G'],\n",
       " ['G', 'G', 'G', 'G', 'T', 'G', 'G', 'G', 'G', 'G'],\n",
       " ['G', 'G', 'G', 'G', 'T', 'G', 'G', 'G', 'G', 'G'],\n",
       " ['T', 'T', 'T', 'T', 'G', 'T', 'T', 'T', 'T', 'T'],\n",
       " ['G', 'G', 'G', 'G', 'T', 'G', 'G', 'G', 'G', 'G'],\n",
       " ['G', 'G', 'G', 'G', 'T', 'G', 'G', 'G', 'G', 'G'],\n",
       " ['G', 'G', 'G', 'G', 'T', 'G', 'G', 'G', 'G', 'G'],\n",
       " ['G', 'G', 'G', 'G', 'T', 'G', 'G', 'G', 'G', 'G'],\n",
       " ['G', 'G', 'G', 'G', 'T', 'G', 'G', 'G', 'G', 'G']]"
      ]
     },
     "metadata": {},
     "execution_count": 46
    }
   ],
   "source": [
    "init_field = create_init_field()\n",
    "init_field"
   ]
  },
  {
   "cell_type": "code",
   "execution_count": 47,
   "metadata": {},
   "outputs": [],
   "source": [
    "def print_field(field):\n",
    "    for row in field:\n",
    "        print(' '.join(row))"
   ]
  },
  {
   "cell_type": "code",
   "execution_count": 48,
   "metadata": {},
   "outputs": [
    {
     "output_type": "stream",
     "name": "stdout",
     "text": [
      "G G G G T G G G G G\nG G G G T G G G G G\nG G G G T G G G G G\nG G G G T G G G G G\nG G G G T G G G G G\nT T T T G T T T T T\nG G G G T G G G G G\nG G G G T G G G G G\nG G G G T G G G G G\nG G G G T G G G G G\nG G G G T G G G G G\n"
     ]
    }
   ],
   "source": [
    "print_field(init_field)"
   ]
  },
  {
   "cell_type": "code",
   "execution_count": 49,
   "metadata": {},
   "outputs": [
    {
     "output_type": "execute_result",
     "data": {
      "text/plain": [
       "'GGGGTGGGGGGGGGTGGGGGGGGGTGGGGGGGGGTGGGGGGGGGTGGGGGTTTTGTTTTTGGGGTGGGGGGGGGTGGGGGGGGGTGGGGGGGGGTGGGGGGGGGTGGGGG'"
      ]
     },
     "metadata": {},
     "execution_count": 49
    }
   ],
   "source": [
    "def field_to_str(field: list) -> str:\n",
    "    return ''.join([''.join(row) for row in field])\n",
    "\n",
    "field_to_str(init_field)"
   ]
  },
  {
   "cell_type": "code",
   "execution_count": 50,
   "metadata": {},
   "outputs": [],
   "source": [
    "# creating bidirectional graph using dict\n",
    "def create_graph():\n",
    "    graph = {}\n",
    "    for row_i in range(WIDTH):\n",
    "        if row_i not in graph:\n",
    "            graph[row_i] = {}\n",
    "        for col_i in range(HEIGHT):\n",
    "            if col_i not in graph[row_i]:\n",
    "                graph[row_i][col_i] = [] # list of tuples, representing (row_i, col_i) of neighbor\n",
    "            # up\n",
    "            if row_i - 1 >= 0:\n",
    "                graph[row_i][col_i].append((row_i - 1, col_i))\n",
    "            # down\n",
    "            if row_i + 1 < WIDTH:\n",
    "                graph[row_i][col_i].append((row_i + 1, col_i))\n",
    "            # left\n",
    "            if col_i - 1 >= 0:\n",
    "                graph[row_i][col_i].append((row_i, col_i - 1))\n",
    "            # right\n",
    "            if col_i + 1 < HEIGHT:\n",
    "                graph[row_i][col_i].append((row_i, col_i + 1))\n",
    "    return graph"
   ]
  },
  {
   "cell_type": "code",
   "execution_count": 51,
   "metadata": {},
   "outputs": [
    {
     "output_type": "execute_result",
     "data": {
      "text/plain": [
       "{0: {0: [(1, 0), (0, 1)],\n",
       "  1: [(1, 1), (0, 0), (0, 2)],\n",
       "  2: [(1, 2), (0, 1), (0, 3)],\n",
       "  3: [(1, 3), (0, 2), (0, 4)],\n",
       "  4: [(1, 4), (0, 3), (0, 5)],\n",
       "  5: [(1, 5), (0, 4), (0, 6)],\n",
       "  6: [(1, 6), (0, 5), (0, 7)],\n",
       "  7: [(1, 7), (0, 6), (0, 8)],\n",
       "  8: [(1, 8), (0, 7), (0, 9)],\n",
       "  9: [(1, 9), (0, 8)]},\n",
       " 1: {0: [(0, 0), (2, 0), (1, 1)],\n",
       "  1: [(0, 1), (2, 1), (1, 0), (1, 2)],\n",
       "  2: [(0, 2), (2, 2), (1, 1), (1, 3)],\n",
       "  3: [(0, 3), (2, 3), (1, 2), (1, 4)],\n",
       "  4: [(0, 4), (2, 4), (1, 3), (1, 5)],\n",
       "  5: [(0, 5), (2, 5), (1, 4), (1, 6)],\n",
       "  6: [(0, 6), (2, 6), (1, 5), (1, 7)],\n",
       "  7: [(0, 7), (2, 7), (1, 6), (1, 8)],\n",
       "  8: [(0, 8), (2, 8), (1, 7), (1, 9)],\n",
       "  9: [(0, 9), (2, 9), (1, 8)]},\n",
       " 2: {0: [(1, 0), (3, 0), (2, 1)],\n",
       "  1: [(1, 1), (3, 1), (2, 0), (2, 2)],\n",
       "  2: [(1, 2), (3, 2), (2, 1), (2, 3)],\n",
       "  3: [(1, 3), (3, 3), (2, 2), (2, 4)],\n",
       "  4: [(1, 4), (3, 4), (2, 3), (2, 5)],\n",
       "  5: [(1, 5), (3, 5), (2, 4), (2, 6)],\n",
       "  6: [(1, 6), (3, 6), (2, 5), (2, 7)],\n",
       "  7: [(1, 7), (3, 7), (2, 6), (2, 8)],\n",
       "  8: [(1, 8), (3, 8), (2, 7), (2, 9)],\n",
       "  9: [(1, 9), (3, 9), (2, 8)]},\n",
       " 3: {0: [(2, 0), (4, 0), (3, 1)],\n",
       "  1: [(2, 1), (4, 1), (3, 0), (3, 2)],\n",
       "  2: [(2, 2), (4, 2), (3, 1), (3, 3)],\n",
       "  3: [(2, 3), (4, 3), (3, 2), (3, 4)],\n",
       "  4: [(2, 4), (4, 4), (3, 3), (3, 5)],\n",
       "  5: [(2, 5), (4, 5), (3, 4), (3, 6)],\n",
       "  6: [(2, 6), (4, 6), (3, 5), (3, 7)],\n",
       "  7: [(2, 7), (4, 7), (3, 6), (3, 8)],\n",
       "  8: [(2, 8), (4, 8), (3, 7), (3, 9)],\n",
       "  9: [(2, 9), (4, 9), (3, 8)]},\n",
       " 4: {0: [(3, 0), (5, 0), (4, 1)],\n",
       "  1: [(3, 1), (5, 1), (4, 0), (4, 2)],\n",
       "  2: [(3, 2), (5, 2), (4, 1), (4, 3)],\n",
       "  3: [(3, 3), (5, 3), (4, 2), (4, 4)],\n",
       "  4: [(3, 4), (5, 4), (4, 3), (4, 5)],\n",
       "  5: [(3, 5), (5, 5), (4, 4), (4, 6)],\n",
       "  6: [(3, 6), (5, 6), (4, 5), (4, 7)],\n",
       "  7: [(3, 7), (5, 7), (4, 6), (4, 8)],\n",
       "  8: [(3, 8), (5, 8), (4, 7), (4, 9)],\n",
       "  9: [(3, 9), (5, 9), (4, 8)]},\n",
       " 5: {0: [(4, 0), (6, 0), (5, 1)],\n",
       "  1: [(4, 1), (6, 1), (5, 0), (5, 2)],\n",
       "  2: [(4, 2), (6, 2), (5, 1), (5, 3)],\n",
       "  3: [(4, 3), (6, 3), (5, 2), (5, 4)],\n",
       "  4: [(4, 4), (6, 4), (5, 3), (5, 5)],\n",
       "  5: [(4, 5), (6, 5), (5, 4), (5, 6)],\n",
       "  6: [(4, 6), (6, 6), (5, 5), (5, 7)],\n",
       "  7: [(4, 7), (6, 7), (5, 6), (5, 8)],\n",
       "  8: [(4, 8), (6, 8), (5, 7), (5, 9)],\n",
       "  9: [(4, 9), (6, 9), (5, 8)]},\n",
       " 6: {0: [(5, 0), (7, 0), (6, 1)],\n",
       "  1: [(5, 1), (7, 1), (6, 0), (6, 2)],\n",
       "  2: [(5, 2), (7, 2), (6, 1), (6, 3)],\n",
       "  3: [(5, 3), (7, 3), (6, 2), (6, 4)],\n",
       "  4: [(5, 4), (7, 4), (6, 3), (6, 5)],\n",
       "  5: [(5, 5), (7, 5), (6, 4), (6, 6)],\n",
       "  6: [(5, 6), (7, 6), (6, 5), (6, 7)],\n",
       "  7: [(5, 7), (7, 7), (6, 6), (6, 8)],\n",
       "  8: [(5, 8), (7, 8), (6, 7), (6, 9)],\n",
       "  9: [(5, 9), (7, 9), (6, 8)]},\n",
       " 7: {0: [(6, 0), (8, 0), (7, 1)],\n",
       "  1: [(6, 1), (8, 1), (7, 0), (7, 2)],\n",
       "  2: [(6, 2), (8, 2), (7, 1), (7, 3)],\n",
       "  3: [(6, 3), (8, 3), (7, 2), (7, 4)],\n",
       "  4: [(6, 4), (8, 4), (7, 3), (7, 5)],\n",
       "  5: [(6, 5), (8, 5), (7, 4), (7, 6)],\n",
       "  6: [(6, 6), (8, 6), (7, 5), (7, 7)],\n",
       "  7: [(6, 7), (8, 7), (7, 6), (7, 8)],\n",
       "  8: [(6, 8), (8, 8), (7, 7), (7, 9)],\n",
       "  9: [(6, 9), (8, 9), (7, 8)]},\n",
       " 8: {0: [(7, 0), (9, 0), (8, 1)],\n",
       "  1: [(7, 1), (9, 1), (8, 0), (8, 2)],\n",
       "  2: [(7, 2), (9, 2), (8, 1), (8, 3)],\n",
       "  3: [(7, 3), (9, 3), (8, 2), (8, 4)],\n",
       "  4: [(7, 4), (9, 4), (8, 3), (8, 5)],\n",
       "  5: [(7, 5), (9, 5), (8, 4), (8, 6)],\n",
       "  6: [(7, 6), (9, 6), (8, 5), (8, 7)],\n",
       "  7: [(7, 7), (9, 7), (8, 6), (8, 8)],\n",
       "  8: [(7, 8), (9, 8), (8, 7), (8, 9)],\n",
       "  9: [(7, 9), (9, 9), (8, 8)]},\n",
       " 9: {0: [(8, 0), (10, 0), (9, 1)],\n",
       "  1: [(8, 1), (10, 1), (9, 0), (9, 2)],\n",
       "  2: [(8, 2), (10, 2), (9, 1), (9, 3)],\n",
       "  3: [(8, 3), (10, 3), (9, 2), (9, 4)],\n",
       "  4: [(8, 4), (10, 4), (9, 3), (9, 5)],\n",
       "  5: [(8, 5), (10, 5), (9, 4), (9, 6)],\n",
       "  6: [(8, 6), (10, 6), (9, 5), (9, 7)],\n",
       "  7: [(8, 7), (10, 7), (9, 6), (9, 8)],\n",
       "  8: [(8, 8), (10, 8), (9, 7), (9, 9)],\n",
       "  9: [(8, 9), (10, 9), (9, 8)]},\n",
       " 10: {0: [(9, 0), (10, 1)],\n",
       "  1: [(9, 1), (10, 0), (10, 2)],\n",
       "  2: [(9, 2), (10, 1), (10, 3)],\n",
       "  3: [(9, 3), (10, 2), (10, 4)],\n",
       "  4: [(9, 4), (10, 3), (10, 5)],\n",
       "  5: [(9, 5), (10, 4), (10, 6)],\n",
       "  6: [(9, 6), (10, 5), (10, 7)],\n",
       "  7: [(9, 7), (10, 6), (10, 8)],\n",
       "  8: [(9, 8), (10, 7), (10, 9)],\n",
       "  9: [(9, 9), (10, 8)]}}"
      ]
     },
     "metadata": {},
     "execution_count": 51
    }
   ],
   "source": [
    "graph = create_graph()\n",
    "graph"
   ]
  },
  {
   "cell_type": "code",
   "execution_count": 52,
   "metadata": {},
   "outputs": [],
   "source": [
    "def field_is_valid(field):\n",
    "    # find a starter trojan & green tent\n",
    "    trojan_loc = None\n",
    "    greek_loc = None\n",
    "    for row_i in range(WIDTH):\n",
    "        for col_i in range(HEIGHT):\n",
    "            tent = field[row_i][col_i]\n",
    "            if not trojan_loc and tent in TROJAN_TENTS:\n",
    "                trojan_loc = (row_i, col_i)\n",
    "            elif not greek_loc and tent in GREEK_TENTS:\n",
    "                greek_loc = (row_i, col_i)\n",
    "            if trojan_loc and greek_loc:\n",
    "                break\n",
    "        if trojan_loc and greek_loc:\n",
    "            break\n",
    "    # use graph logic for trojan\n",
    "    visited_trojan_tents = set()\n",
    "    trojan_queue = [trojan_loc]\n",
    "    while trojan_queue:\n",
    "        tent = trojan_queue.pop()\n",
    "        if str(tent) in visited_trojan_tents:\n",
    "            continue\n",
    "        row, col = tent\n",
    "        if field[row][col] not in TROJAN_TENTS:\n",
    "            continue\n",
    "        visited_trojan_tents.add(str(tent))\n",
    "        # add neighbors to queue\n",
    "        trojan_queue.extend(graph[row][col])\n",
    "\n",
    "    if len(visited_trojan_tents) < TOTAL_TROJANS:\n",
    "        return len(visited_trojan_tents), False\n",
    "\n",
    "    # use graph logic for greek\n",
    "    visited_greek_tents = set()\n",
    "    greek_queue = [greek_loc]\n",
    "    while greek_queue:\n",
    "        tent = greek_queue.pop()\n",
    "        if str(tent) in visited_greek_tents:\n",
    "            continue\n",
    "        row, col = tent\n",
    "        if field[row][col] not in GREEK_TENTS:\n",
    "            continue\n",
    "        visited_greek_tents.add(str(tent))\n",
    "        # add neighbors to queue\n",
    "        greek_queue.extend(graph[row][col])\n",
    "\n",
    "    total_connected = len(visited_trojan_tents) + len(visited_greek_tents)\n",
    "    result = total_connected == WIDTH * HEIGHT\n",
    "    return len(visited_greek_tents), result"
   ]
  },
  {
   "cell_type": "code",
   "execution_count": 53,
   "metadata": {},
   "outputs": [
    {
     "output_type": "execute_result",
     "data": {
      "text/plain": [
       "(5, False)"
      ]
     },
     "metadata": {},
     "execution_count": 53
    }
   ],
   "source": [
    "field_is_valid(init_field)"
   ]
  },
  {
   "cell_type": "code",
   "execution_count": 54,
   "metadata": {},
   "outputs": [],
   "source": [
    "from copy import deepcopy\n",
    "def max_swaps_reached(field):\n",
    "    swapped_tents = 0\n",
    "    for row_i in range(WIDTH):\n",
    "        for col_i in range(HEIGHT):\n",
    "            tent = field[row_i][col_i]\n",
    "            swapped_tents += tent in SWAPPED_TENTS\n",
    "    swaps = swapped_tents / 2\n",
    "    return swaps >= MAX_SWAPS\n",
    "\n",
    "def are_swappable_tents(tent_1, tent_2):\n",
    "    if tent_1 in SWAPPED_TENTS or tent_2 in SWAPPED_TENTS:\n",
    "        return False\n",
    "    if tent_1 == TROJAN == tent_2:\n",
    "        return False\n",
    "    if tent_1 == GREEK == tent_2:\n",
    "        return False\n",
    "    return True\n",
    "\n",
    "def make_all_valid_moves(field):\n",
    "    possibilities = []\n",
    "    # if MAX_SWAPS reached, return nothing\n",
    "    if max_swaps_reached(field):\n",
    "        return possibilities\n",
    "\n",
    "    def add_swapped_copy(loc_1, loc_2):\n",
    "        copy = deepcopy(field)\n",
    "        copy[loc_1[0]][loc_1[1]] = SWAPPED_TROJAN if field[loc_2[0]][loc_2[1]] == TROJAN else SWAPPED_GREEK\n",
    "        copy[loc_2[0]][loc_2[1]] = SWAPPED_TROJAN if field[loc_1[0]][loc_1[1]] == TROJAN else SWAPPED_GREEK\n",
    "        possibilities.append(copy)\n",
    "\n",
    "    for row_i in range(WIDTH):\n",
    "        for col_i in range(HEIGHT):\n",
    "            NEIGHBOR_LOCS = [\n",
    "                (row_i - 1, col_i), # up swap\n",
    "                (row_i + 1, col_i), # down swap\n",
    "                (row_i, col_i - 1), # left swap\n",
    "                (row_i, col_i + 1), # right swap\n",
    "                (row_i - 1, col_i - 1), # up-left swap\n",
    "                (row_i - 1, col_i + 1), # up-right swap\n",
    "                (row_i + 1, col_i - 1), # down-left swap\n",
    "                (row_i + 1, col_i + 1), # down-right swap\n",
    "            ]\n",
    "            tent = field[row_i][col_i]\n",
    "\n",
    "            for neighbor_row_i, neighbor_col_i in NEIGHBOR_LOCS:\n",
    "                if neighbor_row_i < 0 or neighbor_col_i < 0:\n",
    "                    continue\n",
    "                if neighbor_row_i >= WIDTH or neighbor_col_i >= HEIGHT:\n",
    "                    continue\n",
    "\n",
    "                neighbor_tent = field[neighbor_row_i][neighbor_col_i]\n",
    "                if are_swappable_tents(tent, neighbor_tent):\n",
    "                    add_swapped_copy((row_i, col_i), (neighbor_row_i,neighbor_col_i))\n",
    "    return possibilities"
   ]
  },
  {
   "cell_type": "code",
   "execution_count": 55,
   "metadata": {
    "tags": []
   },
   "outputs": [
    {
     "output_type": "stream",
     "name": "stdout",
     "text": [
      "Found solution!\nG G G G g G G G G G\nG G G t T G G G G G\nG G G G T G G G G G\nG G G G T G G G G G\nG G G G T G G G G G\ng g g g t T T T T T\nG t t t T G G G G G\nG G G G T G G G G G\nG G G G T G G G G G\nG G G G T t G G G G\nG G G G g G G G G G\nDONE!\n"
     ]
    }
   ],
   "source": [
    "import heapq\n",
    "\n",
    "# create cache\n",
    "cache = set()\n",
    "# create queue with init_field\n",
    "init_field = create_init_field()\n",
    "priority_queue = [(None, init_field)]\n",
    "solution_found = False\n",
    "# while priority_queue is not empty...\n",
    "while priority_queue and not solution_found:\n",
    "    # pop field from priority_queue\n",
    "    _, field = heapq.heappop(priority_queue)\n",
    "    # Create all possible valid moves as new fields and add to priority_queue (check/add to cache)\n",
    "    new_fields = make_all_valid_moves(field)\n",
    "    for new_field in new_fields:\n",
    "            # check if field is valid, if it is, stop loop (FOUND SOLUTION!)\n",
    "        priority, is_valid = field_is_valid(new_field)\n",
    "        if is_valid:\n",
    "            print('Found solution!')\n",
    "            print_field(new_field)\n",
    "            solution_found = True\n",
    "            break\n",
    "        field_str = field_to_str(new_field)\n",
    "        if field_str not in cache:\n",
    "            cache.add(field_str)\n",
    "            heapq.heappush(priority_queue,(-priority, new_field)) # heapq pops SMALLEST first\n",
    "print(\"DONE!\")"
   ]
  },
  {
   "source": [
    "# 2ND PART!\n",
    "- fixed bug in code for `field_is_valid`"
   ],
   "cell_type": "markdown",
   "metadata": {}
  },
  {
   "cell_type": "code",
   "execution_count": 56,
   "metadata": {},
   "outputs": [
    {
     "output_type": "stream",
     "name": "stdout",
     "text": [
      "Found solution!\nG G G G g G G G G G\nG G G t T G G G G G\nG G G G T G G G G G\nG G G G T G G G G G\nG G G G T G G G G G\ng g g g t T T T T T\nG t t t T G G G G G\nG G G G T G G G G G\nG G G G T G G G G G\nG G G G T t G G G G\nG G G G g G G G G G\nFound solution!\nG G G G g G G G G G\nG G G G T t G G G G\nG G G G T G G G G G\nG G G G T G G G G G\nG G G G T G G G G G\ng g g g t T T T T T\nG t t t T G G G G G\nG G G G T G G G G G\nG G G G T G G G G G\nG G G G T t G G G G\nG G G G g G G G G G\nFound solution!\nG G G G g G G G G G\nG G G t T G G G G G\nG G G G T G G G G G\nG G G G T G G G G G\nG G G G T G G G G G\ng g g g t T T T T T\nG t t t T G G G G G\nG G G G T G G G G G\nG G G G T G G G G G\nG G G G T t G G G G\nG G G G g G G G G G\nFound solution!\nG G G G g G G G G G\nG G G G T t G G G G\nG G G G T G G G G G\nG G G G T G G G G G\nG G G G T G G G G G\ng g g g t T T T T T\nG t t t T G G G G G\nG G G G T G G G G G\nG G G G T G G G G G\nG G G G T t G G G G\nG G G G g G G G G G\nFound solution!\nG G G G T G G G G G\nG G G G T G G G G G\nG G G G T G G G G G\nG G G G T G G G G G\nG G G G T G G G t G\ng g g g t T T T T g\nG t t t T G G G G G\nG G G G T G G G G G\nG G G G T G G G G G\nG G G G T t G G G G\nG G G G g G G G G G\nFound solution!\nG G G G T G G G G G\nG G G G T G G G G G\nG G G G T G G G G G\nG G G G T G G G G G\nG G G G T G G G t G\ng g g g t T T T T g\nG t t t T G G G G G\nG G G G T G G G G G\nG G G G T G G G G G\nG G G G T t G G G G\nG G G G g G G G G G\nFound solution!\nG G G G T G G G G G\nG G G G T G G G G G\nG G G G T G G G G G\nG G G G T G G G G G\nG G G G T G G G G G\ng g g g t T T T T g\nG t t t T G G G t G\nG G G G T G G G G G\nG G G G T G G G G G\nG G G G T t G G G G\nG G G G g G G G G G\nFound solution!\nG G G G T G G G G G\nG G G G T G G G G G\nG G G G T G G G G G\nG G G G T G G G G G\nG G G G T G G G G G\ng g g g t T T T T g\nG t t t T G G G t G\nG G G G T G G G G G\nG G G G T G G G G G\nG G G G T t G G G G\nG G G G g G G G G G\nFound solution!\nG G G G g G G G G G\nG G G t T G G G G G\nG G G G T G G G G G\nG G G G T G G G G G\nG G G G T G G G G G\ng g g g t T T T T T\nG t t t T G G G G G\nG G G G T G G G G G\nG G G G T G G G G G\nG G G t T G G G G G\nG G G G g G G G G G\nFound solution!\nG G G G g G G G G G\nG G G G T t G G G G\nG G G G T G G G G G\nG G G G T G G G G G\nG G G G T G G G G G\ng g g g t T T T T T\nG t t t T G G G G G\nG G G G T G G G G G\nG G G G T G G G G G\nG G G t T G G G G G\nG G G G g G G G G G\nFound solution!\nG G G G g G G G G G\nG G G t T G G G G G\nG G G G T G G G G G\nG G G G T G G G G G\nG G G G T G G G G G\ng g g g t T T T T T\nG t t t T G G G G G\nG G G G T G G G G G\nG G G G T G G G G G\nG G G t T G G G G G\nG G G G g G G G G G\nFound solution!\nG G G G g G G G G G\nG G G G T t G G G G\nG G G G T G G G G G\nG G G G T G G G G G\nG G G G T G G G G G\ng g g g t T T T T T\nG t t t T G G G G G\nG G G G T G G G G G\nG G G G T G G G G G\nG G G t T G G G G G\nG G G G g G G G G G\nFound solution!\nG G G G T G G G G G\nG G G G T G G G G G\nG G G G T G G G G G\nG G G G T G G G G G\nG G G G T G G G t G\ng g g g t T T T T g\nG t t t T G G G G G\nG G G G T G G G G G\nG G G G T G G G G G\nG G G t T G G G G G\nG G G G g G G G G G\nFound solution!\nG G G G T G G G G G\nG G G G T G G G G G\nG G G G T G G G G G\nG G G G T G G G G G\nG G G G T G G G t G\ng g g g t T T T T g\nG t t t T G G G G G\nG G G G T G G G G G\nG G G G T G G G G G\nG G G t T G G G G G\nG G G G g G G G G G\nFound solution!\nG G G G T G G G G G\nG G G G T G G G G G\nG G G G T G G G G G\nG G G G T G G G G G\nG G G G T G G G G G\ng g g g t T T T T g\nG t t t T G G G t G\nG G G G T G G G G G\nG G G G T G G G G G\nG G G t T G G G G G\nG G G G g G G G G G\nFound solution!\nG G G G T G G G G G\nG G G G T G G G G G\nG G G G T G G G G G\nG G G G T G G G G G\nG G G G T G G G G G\ng g g g t T T T T g\nG t t t T G G G t G\nG G G G T G G G G G\nG G G G T G G G G G\nG G G t T G G G G G\nG G G G g G G G G G\nDONE!\n"
     ]
    }
   ],
   "source": [
    "import heapq\n",
    "\n",
    "# create cache\n",
    "cache = set()\n",
    "# create queue with init_field\n",
    "init_field = create_init_field()\n",
    "priority_queue = [(None, init_field)]\n",
    "solutions_found = []\n",
    "# while priority_queue is not empty...\n",
    "while priority_queue and len(solutions_found) < 15:\n",
    "    # pop field from priority_queue\n",
    "    _, field = heapq.heappop(priority_queue)\n",
    "    # Create all possible valid moves as new fields and add to priority_queue (check/add to cache)\n",
    "    new_fields = make_all_valid_moves(field)\n",
    "    for new_field in new_fields:\n",
    "            # check if field is valid, if it is, stop loop (FOUND SOLUTION!)\n",
    "        priority, is_valid = field_is_valid(new_field)\n",
    "        if is_valid:\n",
    "            print('Found solution!')\n",
    "            print_field(new_field)\n",
    "            solutions_found.append(new_field)\n",
    "            continue\n",
    "        field_str = field_to_str(new_field)\n",
    "        if field_str not in cache:\n",
    "            cache.add(field_str)\n",
    "            heapq.heappush(priority_queue,(-priority, new_field)) # heapq pops SMALLEST first\n",
    "print(\"DONE!\")"
   ]
  },
  {
   "source": [
    "Given the generalized solutions of the form:\n",
    "\n",
    "1. All Trojan camps on the left arm must be moved/swapped (including center Greek camp)\n",
    "2. At least 2 of the three remaining Trojan \"arms\" must make a diagonal swap at the very end\n",
    "\n",
    "A single move/swap of the 3rd \"arm\" is needed. This \"arm\" will still be attached to the end of the map. If we make a diagonal swap at the very end, there will be 4 openings for the Greek army to use. Any single bad acting Trojan camp could not block the Greek continuity. "
   ],
   "cell_type": "markdown",
   "metadata": {}
  },
  {
   "source": [
    "Time this, too"
   ],
   "cell_type": "markdown",
   "metadata": {}
  }
 ]
}